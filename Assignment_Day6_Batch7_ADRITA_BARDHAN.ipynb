{
 "cells": [
  {
   "cell_type": "markdown",
   "metadata": {},
   "source": [
    "# Assignment Day 6 batch 7 python essential FCS"
   ]
  },
  {
   "cell_type": "markdown",
   "metadata": {},
   "source": [
    "# by Adrita Bardhan (adrita.bardhan@gmail.com)"
   ]
  },
  {
   "cell_type": "markdown",
   "metadata": {},
   "source": [
    "# Question 1"
   ]
  },
  {
   "cell_type": "markdown",
   "metadata": {},
   "source": [
    "For this challenge,create a bank account class that has two attributes\n",
    "*ownerName\n",
    "*Balance\n",
    "And two methods\n",
    "*deposit\n",
    "*withdraw\n",
    "As an added requirement,withdrawals may not exceed the available balance.\n",
    "Instantiate your class,make several deposits and withdrawals,and test to make sure the account\n",
    "cant be overdrawn."
   ]
  },
  {
   "cell_type": "code",
   "execution_count": 1,
   "metadata": {},
   "outputs": [],
   "source": [
    "class Bank:\n",
    "    AccountHolderName=\" \"\n",
    "    Balance=0\n",
    "    def __init__(self, AccountHolderName, Balance):\n",
    "        self.AccountHolderName=AccountHolderName\n",
    "        self.Balance=Balance\n",
    "    def Deposit(self, Deposit):\n",
    "        self.Balance += Deposit\n",
    "    def Withdraw(self, Withdraw):\n",
    "        if self.Balance<Withdraw:\n",
    "            print(\"You've insuficient balance to make this transaction \\n\\nPlease Enter a valid amount\")\n",
    "        else:\n",
    "            self.Balance -= Withdraw\n",
    "            print(\"Your Current Balance is Rs.\",self.Balance)"
   ]
  },
  {
   "cell_type": "code",
   "execution_count": 4,
   "metadata": {},
   "outputs": [],
   "source": [
    "UCO = Bank(\"Adrita Bardhan\", 2000)"
   ]
  },
  {
   "cell_type": "code",
   "execution_count": 10,
   "metadata": {},
   "outputs": [],
   "source": [
    "UCO.Deposit(5000)"
   ]
  },
  {
   "cell_type": "code",
   "execution_count": 11,
   "metadata": {},
   "outputs": [
    {
     "name": "stdout",
     "output_type": "stream",
     "text": [
      "Your Current Balance is Rs. 2000\n"
     ]
    }
   ],
   "source": [
    "UCO.Withdraw(3000)"
   ]
  },
  {
   "cell_type": "code",
   "execution_count": 12,
   "metadata": {},
   "outputs": [
    {
     "name": "stdout",
     "output_type": "stream",
     "text": [
      "You've insuficient balance to make this transaction \n",
      "\n",
      "Please Enter a valid amount\n"
     ]
    }
   ],
   "source": [
    "UCO.Withdraw(3500)"
   ]
  },
  {
   "cell_type": "code",
   "execution_count": 13,
   "metadata": {},
   "outputs": [
    {
     "name": "stdout",
     "output_type": "stream",
     "text": [
      "Your Current Balance is Rs. 0\n"
     ]
    }
   ],
   "source": [
    "UCO.Withdraw(2000)"
   ]
  },
  {
   "cell_type": "markdown",
   "metadata": {},
   "source": [
    "# Question 2"
   ]
  },
  {
   "cell_type": "markdown",
   "metadata": {},
   "source": [
    "For this challenge,create a cone class that has two attributes:\n",
    "*R=Radius\n",
    "*h=Height\n",
    "And two methods:\n",
    "*Volume = Π * r2 = (h/3)\n",
    "*Surface area : base : Π * r2 , side : Π * r * √(r2 + h2)\n",
    "Make only one class with functions,as in where required import Math."
   ]
  },
  {
   "cell_type": "code",
   "execution_count": 14,
   "metadata": {},
   "outputs": [],
   "source": [
    "import math\n",
    "class Cone:\n",
    "    Radius=0\n",
    "    Height=0\n",
    "    def __init__(self, Radius, Height):\n",
    "        self.Radius=Radius\n",
    "        self.Height=Height\n",
    "    def Cone_Challenge(Radius, Height):\n",
    "        l = math.sqrt(Radius * Radius + Height * Height)\n",
    "        SurfaceArea = math.pi * Radius * (Radius + l)\n",
    "        Volume = (1.0/3) * math.pi * Radius * Radius * Height\n",
    "        print(\" \\nThe Volume of a Cone = %.2f\" %Volume)\n",
    "        print(\" \\nThe Surface Area of a Cone = %.2f \" %SurfaceArea)"
   ]
  },
  {
   "cell_type": "code",
   "execution_count": 15,
   "metadata": {},
   "outputs": [],
   "source": [
    "ChallengeCone = Cone(0,0)"
   ]
  },
  {
   "cell_type": "code",
   "execution_count": 16,
   "metadata": {},
   "outputs": [
    {
     "name": "stdout",
     "output_type": "stream",
     "text": [
      " \n",
      "The Volume of a Cone = 25.13\n",
      " \n",
      "The Surface Area of a Cone = 52.30 \n"
     ]
    }
   ],
   "source": [
    "Cone.Cone_Challenge(2,6)"
   ]
  },
  {
   "cell_type": "code",
   "execution_count": null,
   "metadata": {},
   "outputs": [],
   "source": []
  },
  {
   "cell_type": "markdown",
   "metadata": {},
   "source": [
    "### Thank you Letsupgrade"
   ]
  },
  {
   "cell_type": "code",
   "execution_count": null,
   "metadata": {},
   "outputs": [],
   "source": []
  }
 ],
 "metadata": {
  "kernelspec": {
   "display_name": "Python 3",
   "language": "python",
   "name": "python3"
  },
  "language_info": {
   "codemirror_mode": {
    "name": "ipython",
    "version": 3
   },
   "file_extension": ".py",
   "mimetype": "text/x-python",
   "name": "python",
   "nbconvert_exporter": "python",
   "pygments_lexer": "ipython3",
   "version": "3.8.3"
  }
 },
 "nbformat": 4,
 "nbformat_minor": 4
}
