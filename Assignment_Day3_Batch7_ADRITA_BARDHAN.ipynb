{
 "cells": [
  {
   "cell_type": "markdown",
   "metadata": {},
   "source": [
    "## Assignment Day 3 batch 7 python essential FCS"
   ]
  },
  {
   "cell_type": "markdown",
   "metadata": {},
   "source": [
    "## by Adrita Bardhan (adrita.bardhan@gmail.com)"
   ]
  },
  {
   "cell_type": "markdown",
   "metadata": {},
   "source": [
    "# Question 1"
   ]
  },
  {
   "cell_type": "markdown",
   "metadata": {},
   "source": [
    "You all are Pilots, you want to land a plane safely, so altitude required for landing a plane is\n",
    "1000ft, it it is less than tell pilot to land the plane, or it is more than that but less than 5000ft ask\n",
    "the pilot to “come down to 1000ft”, else if it more than 5000ft ask the pilot to “go around and try\n",
    "later”"
   ]
  },
  {
   "cell_type": "code",
   "execution_count": 5,
   "metadata": {},
   "outputs": [
    {
     "name": "stdout",
     "output_type": "stream",
     "text": [
      "Enter the current altitude- 970\n",
      "You are safe to land\n"
     ]
    }
   ],
   "source": [
    "altitude= int(input(\"Enter the current altitude- \"))\n",
    "\n",
    "\n",
    "if altitude<=1000:\n",
    "    print(\"You are safe to land\")\n",
    "elif altitude >1000 and altitude <=5000:\n",
    "    print(\"come down to 1000 and land safely\")\n",
    "else:\n",
    "    print(\"Go Around and try later\")"
   ]
  },
  {
   "cell_type": "code",
   "execution_count": 2,
   "metadata": {},
   "outputs": [
    {
     "name": "stdout",
     "output_type": "stream",
     "text": [
      "Enter the current altitude- 2000\n",
      "come down to 1000 and land safely\n"
     ]
    }
   ],
   "source": [
    "altitude= int(input(\"Enter the current altitude- \"))\n",
    "\n",
    "\n",
    "if altitude<=1000:\n",
    "    print(\"You are safe to land\")\n",
    "elif altitude >1000 and altitude <=5000:\n",
    "    print(\"come down to 1000 and land safely\")\n",
    "else:\n",
    "    print(\"Go Around and try later\")"
   ]
  },
  {
   "cell_type": "code",
   "execution_count": 3,
   "metadata": {},
   "outputs": [
    {
     "name": "stdout",
     "output_type": "stream",
     "text": [
      "Enter the current altitude- 6500\n",
      "Go Around and try later\n"
     ]
    }
   ],
   "source": [
    "altitude= int(input(\"Enter the current altitude- \"))\n",
    "\n",
    "\n",
    "if altitude<=1000:\n",
    "    print(\"You are safe to land\")\n",
    "elif altitude >1000 and altitude <=5000:\n",
    "    print(\"come down to 1000 and land safely\")\n",
    "else:\n",
    "    print(\"Go Around and try later\")"
   ]
  },
  {
   "cell_type": "code",
   "execution_count": null,
   "metadata": {},
   "outputs": [],
   "source": []
  },
  {
   "cell_type": "markdown",
   "metadata": {},
   "source": [
    "# Question 2"
   ]
  },
  {
   "cell_type": "markdown",
   "metadata": {},
   "source": [
    "Using for loop please print all the prime numbers between 1- 200 using FOR LOOP AND RANGE\n",
    "function.\n"
   ]
  },
  {
   "cell_type": "code",
   "execution_count": 22,
   "metadata": {},
   "outputs": [
    {
     "name": "stdout",
     "output_type": "stream",
     "text": [
      "2\n",
      "3\n",
      "5\n",
      "7\n",
      "11\n",
      "13\n",
      "17\n",
      "19\n",
      "23\n",
      "29\n",
      "31\n",
      "37\n",
      "41\n",
      "43\n",
      "47\n",
      "53\n",
      "59\n",
      "61\n",
      "67\n",
      "71\n",
      "73\n",
      "79\n",
      "83\n",
      "89\n",
      "97\n",
      "101\n",
      "103\n",
      "107\n",
      "109\n",
      "113\n",
      "127\n",
      "131\n",
      "137\n",
      "139\n",
      "149\n",
      "151\n",
      "157\n",
      "163\n",
      "167\n",
      "173\n",
      "179\n",
      "181\n",
      "191\n",
      "193\n",
      "197\n",
      "199\n"
     ]
    }
   ],
   "source": [
    "for a in range(1,200):  \n",
    "   if a > 1:  \n",
    "       for i in range(2,a):  \n",
    "           if (a % i) == 0:  \n",
    "               break  \n",
    "       else:  \n",
    "           print(a)"
   ]
  },
  {
   "cell_type": "code",
   "execution_count": null,
   "metadata": {},
   "outputs": [],
   "source": []
  },
  {
   "cell_type": "markdown",
   "metadata": {},
   "source": [
    "### Thank you Letsupgrade "
   ]
  }
 ],
 "metadata": {
  "kernelspec": {
   "display_name": "Python 3",
   "language": "python",
   "name": "python3"
  },
  "language_info": {
   "codemirror_mode": {
    "name": "ipython",
    "version": 3
   },
   "file_extension": ".py",
   "mimetype": "text/x-python",
   "name": "python",
   "nbconvert_exporter": "python",
   "pygments_lexer": "ipython3",
   "version": "3.8.3"
  }
 },
 "nbformat": 4,
 "nbformat_minor": 4
}
